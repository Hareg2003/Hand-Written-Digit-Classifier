{
 "cells": [
  {
   "cell_type": "code",
   "execution_count": 1,
   "id": "1e903693",
   "metadata": {},
   "outputs": [],
   "source": [
    "from PIL import Image\n",
    "from matplotlib import image\n",
    "import numpy as np\n",
    "import pandas as pd\n",
    "import matplotlib.pyplot as plt\n",
    "import seaborn as sns\n",
    "from pickle import load\n",
    "classifier_knn = load(open('pkl/knn_model.pkl', 'rb'))\n",
    "classifier_lr = load(open('pkl/lr_model.pkl', 'rb'))\n",
    "classifier_dt = load(open('pkl/dt_model.pkl', 'rb'))\n",
    "classifier_rf = load(open('pkl/rf_model.pkl', 'rb'))\n",
    "classifier_svc = load(open('pkl/svc_model.pkl', 'rb'))"
   ]
  },
  {
   "cell_type": "code",
   "execution_count": 2,
   "id": "0cfa9321",
   "metadata": {},
   "outputs": [],
   "source": [
    "image_0 = Image.open(r'sample_imgs\\imgs\\0.PNG')\n",
    "image_1 = Image.open(r'sample_imgs\\imgs\\1.PNG')\n",
    "image_2 = Image.open(r'sample_imgs\\imgs\\2.PNG')\n",
    "image_5 = Image.open(r'sample_imgs\\imgs\\5.PNG')\n",
    "image_6 = Image.open(r'sample_imgs\\imgs\\6.PNG')\n",
    "image_8 = Image.open(r'sample_imgs\\imgs\\8.PNG')"
   ]
  },
  {
   "cell_type": "code",
   "execution_count": 3,
   "id": "52f53a27",
   "metadata": {},
   "outputs": [
    {
     "data": {
      "image/png": "[encoded data removed]",
      "text/plain": [
       "<PIL.PngImagePlugin.PngImageFile image mode=RGBA size=169x160 at 0x26D42911F10>"
      ]
     },
     "execution_count": 3,
     "metadata": {},
     "output_type": "execute_result"
    }
   ],
   "source": [
    "image_0"
   ]
  },
  {
   "cell_type": "code",
   "execution_count": 4,
   "id": "87b7b7ad",
   "metadata": {},
   "outputs": [
    {
     "data": {
      "image/png": "[encoded data removed]",
      "text/plain": [
       "<PIL.PngImagePlugin.PngImageFile image mode=RGBA size=143x147 at 0x26D428C2E50>"
      ]
     },
     "execution_count": 4,
     "metadata": {},
     "output_type": "execute_result"
    }
   ],
   "source": [
    "image_1"
   ]
  },
  {
   "cell_type": "code",
   "execution_count": 24,
   "id": "a3721384",
   "metadata": {},
   "outputs": [
    {
     "data": {
      "image/png": "[encoded data removed]",
      "text/plain": [
       "<PIL.PngImagePlugin.PngImageFile image mode=RGBA size=123x147 at 0x26D61779A90>"
      ]
     },
     "execution_count": 24,
     "metadata": {},
     "output_type": "execute_result"
    }
   ],
   "source": [
    "image_6"
   ]
  },
  {
   "cell_type": "code",
   "execution_count": 7,
   "id": "03df6f4b",
   "metadata": {},
   "outputs": [],
   "source": [
    "image_0_arry = np.array(image_0.resize((28,28)))"
   ]
  },
  {
   "cell_type": "code",
   "execution_count": 9,
   "id": "0246fc9d",
   "metadata": {},
   "outputs": [],
   "source": [
    "image_flat_0=image_0_arry[:,:,0].flatten()"
   ]
  },
  {
   "cell_type": "code",
   "execution_count": 10,
   "id": "0977f4c2",
   "metadata": {},
   "outputs": [
    {
     "data": {
      "text/plain": [
       "array([0], dtype=int64)"
      ]
     },
     "execution_count": 10,
     "metadata": {},
     "output_type": "execute_result"
    }
   ],
   "source": [
    "classifier_knn.predict(image_flat_0.reshape(1,-1))"
   ]
  },
  {
   "cell_type": "code",
   "execution_count": 11,
   "id": "16679b99",
   "metadata": {},
   "outputs": [
    {
     "data": {
      "text/plain": [
       "array([0], dtype=int64)"
      ]
     },
     "execution_count": 11,
     "metadata": {},
     "output_type": "execute_result"
    }
   ],
   "source": [
    "classifier_lr.predict(image_flat_0.reshape(1,-1))"
   ]
  },
  {
   "cell_type": "code",
   "execution_count": 12,
   "id": "f206a440",
   "metadata": {},
   "outputs": [
    {
     "data": {
      "text/plain": [
       "array([3], dtype=int64)"
      ]
     },
     "execution_count": 12,
     "metadata": {},
     "output_type": "execute_result"
    }
   ],
   "source": [
    "classifier_dt.predict(image_flat_0.reshape(1,-1))"
   ]
  },
  {
   "cell_type": "code",
   "execution_count": 13,
   "id": "504ed116",
   "metadata": {},
   "outputs": [
    {
     "data": {
      "text/plain": [
       "array([8], dtype=int64)"
      ]
     },
     "execution_count": 13,
     "metadata": {},
     "output_type": "execute_result"
    }
   ],
   "source": [
    "classifier_rf.predict(image_flat_0.reshape(1,-1))"
   ]
  },
  {
   "cell_type": "code",
   "execution_count": 14,
   "id": "f9aacc9c",
   "metadata": {},
   "outputs": [
    {
     "data": {
      "text/plain": [
       "array([2], dtype=int64)"
      ]
     },
     "execution_count": 14,
     "metadata": {},
     "output_type": "execute_result"
    }
   ],
   "source": [
    "classifier_svc.predict(image_flat_0.reshape(1,-1))"
   ]
  },
  {
   "cell_type": "code",
   "execution_count": 15,
   "id": "495c99bc",
   "metadata": {},
   "outputs": [],
   "source": [
    "def Pred(image):\n",
    "    image_arry = np.array(image.resize((28,28)))\n",
    "    image_flat=image_arry[:,:,0].flatten()\n",
    "    knn=classifier_knn.predict(image_flat.reshape(1,-1))\n",
    "    lr=classifier_lr.predict(image_flat.reshape(1,-1))\n",
    "    dt=classifier_dt.predict(image_flat.reshape(1,-1))\n",
    "    rf=classifier_rf.predict(image_flat.reshape(1,-1))\n",
    "    svc=classifier_svc.predict(image_flat.reshape(1,-1))\n",
    "    return knn,lr,dt,rf,svc"
   ]
  },
  {
   "cell_type": "code",
   "execution_count": 16,
   "id": "4990f36f",
   "metadata": {},
   "outputs": [
    {
     "data": {
      "text/plain": [
       "(array([0], dtype=int64),\n",
       " array([0], dtype=int64),\n",
       " array([3], dtype=int64),\n",
       " array([8], dtype=int64),\n",
       " array([2], dtype=int64))"
      ]
     },
     "execution_count": 16,
     "metadata": {},
     "output_type": "execute_result"
    }
   ],
   "source": [
    "Pred(image_0)"
   ]
  },
  {
   "cell_type": "code",
   "execution_count": 17,
   "id": "8dec2872",
   "metadata": {},
   "outputs": [
    {
     "data": {
      "text/plain": [
       "(array([6], dtype=int64),\n",
       " array([8], dtype=int64),\n",
       " array([8], dtype=int64),\n",
       " array([8], dtype=int64),\n",
       " array([2], dtype=int64))"
      ]
     },
     "execution_count": 17,
     "metadata": {},
     "output_type": "execute_result"
    }
   ],
   "source": [
    "Pred(image_1)"
   ]
  },
  {
   "cell_type": "code",
   "execution_count": 18,
   "id": "393b5cfb",
   "metadata": {},
   "outputs": [
    {
     "data": {
      "text/plain": [
       "(array([2], dtype=int64),\n",
       " array([2], dtype=int64),\n",
       " array([3], dtype=int64),\n",
       " array([8], dtype=int64),\n",
       " array([2], dtype=int64))"
      ]
     },
     "execution_count": 18,
     "metadata": {},
     "output_type": "execute_result"
    }
   ],
   "source": [
    "Pred(image_2)"
   ]
  },
  {
   "cell_type": "code",
   "execution_count": 19,
   "id": "e5dc6c59",
   "metadata": {},
   "outputs": [
    {
     "data": {
      "text/plain": [
       "(array([5], dtype=int64),\n",
       " array([5], dtype=int64),\n",
       " array([8], dtype=int64),\n",
       " array([8], dtype=int64),\n",
       " array([2], dtype=int64))"
      ]
     },
     "execution_count": 19,
     "metadata": {},
     "output_type": "execute_result"
    }
   ],
   "source": [
    "Pred(image_5)"
   ]
  },
  {
   "cell_type": "code",
   "execution_count": 20,
   "id": "d2865a86",
   "metadata": {},
   "outputs": [
    {
     "data": {
      "text/plain": [
       "(array([8], dtype=int64),\n",
       " array([6], dtype=int64),\n",
       " array([4], dtype=int64),\n",
       " array([8], dtype=int64),\n",
       " array([2], dtype=int64))"
      ]
     },
     "execution_count": 20,
     "metadata": {},
     "output_type": "execute_result"
    }
   ],
   "source": [
    "Pred(image_6)"
   ]
  },
  {
   "cell_type": "code",
   "execution_count": 21,
   "id": "67d740c3",
   "metadata": {},
   "outputs": [
    {
     "data": {
      "text/plain": [
       "(array([8], dtype=int64),\n",
       " array([8], dtype=int64),\n",
       " array([8], dtype=int64),\n",
       " array([8], dtype=int64),\n",
       " array([2], dtype=int64))"
      ]
     },
     "execution_count": 21,
     "metadata": {},
     "output_type": "execute_result"
    }
   ],
   "source": [
    "Pred(image_8)"
   ]
  },
  {
   "cell_type": "code",
   "execution_count": null,
   "id": "894eee13",
   "metadata": {},
   "outputs": [],
   "source": []
  },
  {
   "cell_type": "code",
   "execution_count": null,
   "id": "43290dcd",
   "metadata": {},
   "outputs": [],
   "source": []
  }
 ],
 "metadata": {
  "kernelspec": {
   "display_name": "Python 3 (ipykernel)",
   "language": "python",
   "name": "python3"
  },
  "language_info": {
   "codemirror_mode": {
    "name": "ipython",
    "version": 3
   },
   "file_extension": ".py",
   "mimetype": "text/x-python",
   "name": "python",
   "nbconvert_exporter": "python",
   "pygments_lexer": "ipython3",
   "version": "3.9.7"
  }
 },
 "nbformat": 4,
 "nbformat_minor": 5
}
